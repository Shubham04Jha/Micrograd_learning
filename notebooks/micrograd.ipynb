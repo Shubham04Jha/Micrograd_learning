{
 "cells": [
  {
   "cell_type": "markdown",
   "id": "33707fd2",
   "metadata": {},
   "source": [
    "Creating a op property which gives from what operation the current value object is being created."
   ]
  },
  {
   "cell_type": "code",
   "execution_count": 157,
   "id": "f68386ae",
   "metadata": {},
   "outputs": [],
   "source": [
    "import math\n",
    "import numpy as np\n",
    "import matplotlib.pyplot as plt\n",
    "%matplotlib inline"
   ]
  },
  {
   "cell_type": "code",
   "execution_count": 158,
   "id": "ea6386c8",
   "metadata": {},
   "outputs": [],
   "source": [
    "class Value:\n",
    "    def __init__(self,data,_children=(),_op = '',label = ''):\n",
    "        self.data = data\n",
    "        self._prev = _children\n",
    "        self._op = _op\n",
    "        self.grad = 0.0\n",
    "        self.label = label\n",
    "        self._backpropUnit = lambda: None\n",
    "    \n",
    "    def __repr__(self):\n",
    "        return f\"Value(data= {self.data})\"\n",
    "    \n",
    "    def __add__(self,other):\n",
    "        out =  Value(self.data+other.data,(self,other),'+')\n",
    "        def _backpropUnit(): # assuming out.grad was set before calling the function here\n",
    "            self.grad+= 1.0*out.grad\n",
    "            other.grad+= 1.0*out.grad\n",
    "        out._backpropUnit = _backpropUnit\n",
    "        return out\n",
    "    \n",
    "    def __mul__(self,other):\n",
    "        out =  Value(self.data*other.data,(self,other),'*')\n",
    "        def _backpropUnit(): # assuming out.grad was set before calling the function here\n",
    "            self.grad +=other.data*out.grad\n",
    "            other.grad+= self.data*out.grad\n",
    "        out._backpropUnit = _backpropUnit\n",
    "        return out\n",
    "    \n",
    "    def tanh(self):\n",
    "        x = self.data\n",
    "        t = (math.exp(2*x)-1)/(math.exp(2*x)+1)\n",
    "        out = Value(t,(self,),_op = 'tanh')\n",
    "        def _backpropUnit(): # assuming out.grad was set before calling the function here\n",
    "            self.grad += out.grad*(1-t**2)\n",
    "        out._backpropUnit = _backpropUnit\n",
    "        return out\n",
    "    \n",
    "    def printgrads(self):\n",
    "        vl = set(self._prev)\n",
    "        while(len(vl)):\n",
    "            print([f\"{v.label} : {v.grad} \" for v in vl])\n",
    "            nvl = set()\n",
    "            for v in vl:\n",
    "                nvl.update(v._prev)\n",
    "            vl = nvl\n",
    "\n",
    "    def backprop(self):\n",
    "        self.clean() # resetting the grads to 0\n",
    "        self.grad = 1.0\n",
    "        #applying bfs to calculate grad of each level only after the parent level.\n",
    "        vl = set()\n",
    "        vl.add(self)\n",
    "        while(len(vl)):\n",
    "            nvl = set()\n",
    "            for v in vl:\n",
    "                v._backpropUnit()\n",
    "                nvl.update(v._prev)\n",
    "            vl = nvl\n",
    "\n",
    "    def clean(self):\n",
    "        nodes = set()\n",
    "        def _clean(v):\n",
    "            if v not in nodes:\n",
    "                nodes.add(v) # ensures atmax only one level deep the repititions will be.\n",
    "                v.grad = 0\n",
    "                for child in v._prev:\n",
    "                    _clean(child)\n",
    "        _clean(self)\n",
    "\n"
   ]
  },
  {
   "cell_type": "markdown",
   "id": "e2c1a340",
   "metadata": {},
   "source": [
    "Now here the values are good but in order to be able to perform backpropagation we need a connecting tissue... and it should be such that if c = a+b then c should be able to point to a and b. \n",
    "empty tuple as childrens and while initialising we will use set.... but lets for now use list... "
   ]
  },
  {
   "cell_type": "markdown",
   "id": "b572c0d5",
   "metadata": {},
   "source": [
    "Writing the logic of backpropagation"
   ]
  },
  {
   "cell_type": "code",
   "execution_count": 159,
   "id": "27417116",
   "metadata": {},
   "outputs": [],
   "source": [
    "#inputs x1,x2\n",
    "x1 = Value(2.0,label='x1')\n",
    "x2 = Value(-3.0,label='x2')\n",
    "#weights\n",
    "w1,w2 = Value(-4.0,label=\"w1\"),Value(5.0,label='w2')\n",
    "#biases\n",
    "b = Value(4.5,label='b')\n",
    "x1w1 = x1*w1; x1w1.label = 'x1w1'\n",
    "x2w2 = x2*w2; x2w2.label = 'x2w2'\n",
    "x1w1x2w2 = x1w1+x2w2; x1w1x2w2.label = 'x1w1x2w2'\n",
    "n = x1w1x2w2+b; n.label = 'n'\n",
    "o = n.tanh(); o.label = 'o'\n",
    "\n"
   ]
  },
  {
   "cell_type": "code",
   "execution_count": 160,
   "id": "c052fbcc",
   "metadata": {},
   "outputs": [],
   "source": [
    "def backprop(self):\n",
    "    self.grad = 1.0\n",
    "    #applying bfs to calculate grad of each level only after the parent level.\n",
    "    vl = set()\n",
    "    vl.add(self)\n",
    "    while(len(vl)):\n",
    "        nvl = set()\n",
    "        for v in vl:\n",
    "            v._backpropUnit()\n",
    "            nvl.update(v._prev)\n",
    "        vl = nvl\n"
   ]
  },
  {
   "cell_type": "code",
   "execution_count": null,
   "id": "b0cb0ed9",
   "metadata": {},
   "outputs": [],
   "source": []
  }
 ],
 "metadata": {
  "kernelspec": {
   "display_name": "Python (virtual micrograd)",
   "language": "python",
   "name": "myenv"
  },
  "language_info": {
   "codemirror_mode": {
    "name": "ipython",
    "version": 3
   },
   "file_extension": ".py",
   "mimetype": "text/x-python",
   "name": "python",
   "nbconvert_exporter": "python",
   "pygments_lexer": "ipython3",
   "version": "3.12.5"
  }
 },
 "nbformat": 4,
 "nbformat_minor": 5
}
