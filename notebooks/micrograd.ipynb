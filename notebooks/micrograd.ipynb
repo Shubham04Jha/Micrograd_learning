{
 "cells": [
  {
   "cell_type": "code",
   "execution_count": 11,
   "id": "ea6386c8",
   "metadata": {},
   "outputs": [
    {
     "data": {
      "text/plain": [
       "Value(data= 7.8)"
      ]
     },
     "execution_count": 11,
     "metadata": {},
     "output_type": "execute_result"
    }
   ],
   "source": [
    "class Value:\n",
    "    def __init__(self,data):\n",
    "        self.data = data\n",
    "    \n",
    "    def __repr__(self):\n",
    "        return f\"Value(data= {self.data})\"\n",
    "    \n",
    "    def __add__(self,other):\n",
    "        return Value(self.data+other.data)\n",
    "    \n",
    "    def __mul__(self,other):\n",
    "        return Value(self.data*other.data)\n",
    "\n",
    "a = Value(2.0)\n",
    "b = Value(3.9)\n",
    "a*b"
   ]
  }
 ],
 "metadata": {
  "kernelspec": {
   "display_name": "myenv",
   "language": "python",
   "name": "python3"
  },
  "language_info": {
   "codemirror_mode": {
    "name": "ipython",
    "version": 3
   },
   "file_extension": ".py",
   "mimetype": "text/x-python",
   "name": "python",
   "nbconvert_exporter": "python",
   "pygments_lexer": "ipython3",
   "version": "3.12.5"
  }
 },
 "nbformat": 4,
 "nbformat_minor": 5
}
