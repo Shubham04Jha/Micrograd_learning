{
 "cells": [
  {
   "cell_type": "code",
   "execution_count": 6,
   "metadata": {},
   "outputs": [],
   "source": [
    "import math\n",
    "import numpy as np\n",
    "import matplotlib.pyplot as plt\n",
    "import random\n",
    "%matplotlib inline"
   ]
  },
  {
   "cell_type": "code",
   "execution_count": 7,
   "metadata": {},
   "outputs": [],
   "source": [
    "class Value:\n",
    "    def __init__(self,data,_children=(),_op = ''):\n",
    "        self.data = data\n",
    "        self._prev = _children\n",
    "        self._op = _op\n",
    "        self.grad = 0.0\n",
    "        self._backpropUnit = lambda: None\n",
    "    \n",
    "    def __repr__(self):\n",
    "        return f\"Value(data= {self.data})\"\n",
    "    \n",
    "    def __add__(self,other):\n",
    "        other = other if isinstance(other,Value) else Value(other)\n",
    "        out =  Value(self.data+other.data,(self,other),'+')\n",
    "        def _backpropUnit(): \n",
    "            self.grad+= 1.0*out.grad\n",
    "            other.grad+= 1.0*out.grad\n",
    "        out._backpropUnit = _backpropUnit\n",
    "        return out\n",
    "    \n",
    "    def __mul__(self,other):\n",
    "        other = other if isinstance(other,Value) else Value(other)\n",
    "        out =  Value(self.data*other.data,(self,other),'*')\n",
    "        def _backpropUnit(): \n",
    "            self.grad +=other.data*out.grad\n",
    "            other.grad+= self.data*out.grad\n",
    "        out._backpropUnit = _backpropUnit\n",
    "        return out\n",
    "\n",
    "    def __truediv__(self,other):\n",
    "        other = other if isinstance(other,Value) else Value(other)\n",
    "        return self*other**-1\n",
    "\n",
    "    def __rmul__(self,other): #they are in reverse order\n",
    "        return self*other\n",
    "    \n",
    "    def __radd__(self,other):\n",
    "        return self+other\n",
    "    \n",
    "    def __neg__(self):\n",
    "        return self*-1 \n",
    "\n",
    "    def __sub__(self,other):\n",
    "        return self+(-other)\n",
    "    \n",
    "    def __rsub__(self,other):\n",
    "        return -self+other\n",
    "\n",
    "    def tanh(self):\n",
    "        x = self.data\n",
    "        t = (math.exp(2*x)-1)/(math.exp(2*x)+1)\n",
    "        out = Value(t,(self,),_op = 'tanh')\n",
    "        def _backpropUnit(): \n",
    "            self.grad += out.grad*(1-t**2)\n",
    "        out._backpropUnit = _backpropUnit\n",
    "        return out\n",
    "    \n",
    "    def exp(self):\n",
    "        x = math.exp(self.data)\n",
    "        out = Value(x,(self,),_op=f'exp({self.data})')\n",
    "    \n",
    "        def _backpropUnit():\n",
    "            self.grad+= out.grad*out.data\n",
    "        out._backpropUnit = _backpropUnit\n",
    "    \n",
    "        return out\n",
    "    \n",
    "    def __pow__(self,other):\n",
    "        assert isinstance(other,(int,float)) , \"only supporting int and float as power\"\n",
    "        out = Value(self.data**other,(self,),f'**{other}')\n",
    "        def _backpropUnit():\n",
    "            self.grad+=other * (self.data ** (other - 1)) * out.grad\n",
    "        out._backpropUnit = _backpropUnit\n",
    "        return out\n",
    "\n",
    "    def topologicalOrder(self):\n",
    "        topo = []\n",
    "        visited = set()\n",
    "    \n",
    "        def build_topo(v):\n",
    "            if v not in visited:\n",
    "                visited.add(v)\n",
    "                for child in v._prev:\n",
    "                    build_topo(child)\n",
    "                topo.append(v)\n",
    "        build_topo(self)\n",
    "        return topo\n",
    "\n",
    "    def printForwardPass(self):\n",
    "        topo = self.topologicalOrder()\n",
    "        for v in topo:\n",
    "            print(f\"{v.data} : {v.grad} \")\n",
    "\n",
    "    def backward(self):\n",
    "        topo = self.topologicalOrder()\n",
    "        self.clean()\n",
    "        self.grad = 1.0\n",
    "        for node in reversed(topo):\n",
    "            node._backpropUnit()\n",
    "\n",
    "    def clean(self):\n",
    "        nodes = set()\n",
    "        def _clean(v):\n",
    "            if v not in nodes:\n",
    "                nodes.add(v) # ensures atmax only one level deep the repititions will be.\n",
    "                v.grad = 0\n",
    "                for child in v._prev:\n",
    "                    _clean(child)\n",
    "        _clean(self)\n",
    "\n",
    "    \n"
   ]
  },
  {
   "cell_type": "code",
   "execution_count": 8,
   "metadata": {},
   "outputs": [],
   "source": [
    "\n",
    "\n",
    "class Neuron:\n",
    "    def __init__(self,nin):\n",
    "        self.w = [Value(random.uniform(-1,1)) for _ in range(nin)]\n",
    "        self.b = Value(random.uniform(-1,1))\n",
    "    \n",
    "    def __call__(self, x):\n",
    "        act = sum((xi*wi for xi,wi in zip(x,self.w)),self.b)\n",
    "        out = act.tanh()\n",
    "        return out\n",
    "\n",
    "    def parameters(self):\n",
    "        return [self.b]+self.w\n",
    "\n",
    "class Layer:\n",
    "    def __init__(self,nin,nop):\n",
    "        self.neurons = [Neuron(nin) for _ in range(nop)]\n",
    "    \n",
    "    def __call__(self, x):\n",
    "        outs = [n(x) for n in self.neurons]\n",
    "        return outs if len(outs)>1 else outs[0]\n",
    "\n",
    "    def parameters(self):\n",
    "        return [p for neuron in self.neurons for p in neuron.parameters()]\n",
    "\n",
    "class MLP:\n",
    "    def __init__(self,nin,nops):\n",
    "        sz = [nin]+nops\n",
    "        self.layers =[Layer(sz[i],sz[i+1]) for i in range(len(nops))]\n",
    "    \n",
    "    def __call__(self,x):\n",
    "        for layer in self.layers:\n",
    "            x = layer(x) # x is updated as the output of the layer(x) which is then fed to another layer.\n",
    "        return x\n",
    "\n",
    "    def parameters(self):\n",
    "        return [p for layer in self.layers for p in layer.parameters()]\n",
    "\n",
    "\n"
   ]
  },
  {
   "cell_type": "code",
   "execution_count": 9,
   "metadata": {},
   "outputs": [
    {
     "data": {
      "text/plain": [
       "[Value(data= 0.5995710014150674),\n",
       " Value(data= -0.10554537897547255),\n",
       " Value(data= 0.6346395332412764),\n",
       " Value(data= -0.33611015610770406)]"
      ]
     },
     "execution_count": 9,
     "metadata": {},
     "output_type": "execute_result"
    }
   ],
   "source": [
    "n = MLP(3,[4,4,1])\n",
    "#Running on a simple dataset. \n",
    "xs = [[3,5.7,3.2],\n",
    "      [2.7,4.5,5],\n",
    "      [9.6,8,7],\n",
    "      [3,5,7]  \n",
    "      ]\n",
    "ys = [1.0,-1.0,0.99,-0.8]\n",
    "ypred = [n(x) for x in xs]\n",
    "ypred"
   ]
  },
  {
   "cell_type": "code",
   "execution_count": 10,
   "metadata": {},
   "outputs": [
    {
     "data": {
      "text/plain": [
       "Value(data= 0.3254668251453149)"
      ]
     },
     "execution_count": 10,
     "metadata": {},
     "output_type": "execute_result"
    }
   ],
   "source": [
    "loss = sum((yout-ygt)**2 for ygt,yout in zip(ys,ypred))/len(ys)\n",
    "loss"
   ]
  },
  {
   "cell_type": "code",
   "execution_count": 1077,
   "metadata": {},
   "outputs": [
    {
     "name": "stdout",
     "output_type": "stream",
     "text": [
      "0 Value(data= 0.005029871737612621)\n",
      "1 Value(data= 0.00502986598742324)\n",
      "2 Value(data= 0.0050298602394597694)\n",
      "3 Value(data= 0.0050298544937209064)\n",
      "4 Value(data= 0.005029848750205353)\n",
      "5 Value(data= 0.005029843008911829)\n",
      "6 Value(data= 0.0050298372698390215)\n",
      "7 Value(data= 0.005029831532985628)\n",
      "8 Value(data= 0.0050298257983503805)\n",
      "9 Value(data= 0.005029820065931966)\n"
     ]
    }
   ],
   "source": [
    "# looping gradient descent of the loss function..\n",
    "stepsize = 0.5\n",
    "for k in range(10):\n",
    "    #forward pass\n",
    "    ypred = [n(x) for x in xs]\n",
    "    # loss = sum((yout-ygt)**2 for ygt,yout in zip(ys,ypred))/Value(len(ys))\n",
    "    loss = sum((yout-ygt)**2 for ygt,yout in zip(ys,ypred))/len(ys)\n",
    "    \n",
    "    #backward pass\n",
    "    loss.backward()\n",
    "    \n",
    "    #update\n",
    "    mlp_params = n.parameters()\n",
    "    for p in mlp_params:\n",
    "        p.data+=-1*stepsize*p.grad\n",
    "    \n",
    "    print(k,loss)"
   ]
  },
  {
   "cell_type": "code",
   "execution_count": 1078,
   "metadata": {},
   "outputs": [
    {
     "name": "stdout",
     "output_type": "stream",
     "text": [
      "Expected: 1.0 Predicted: Value(data= 0.994637371791296)\n",
      "Expected: -1.0 Predicted: Value(data= -0.8999259531697235)\n",
      "Expected: 0.99 Predicted: Value(data= 0.9897437415870209)\n",
      "Expected: -0.8 Predicted: Value(data= -0.9003774973042289)\n"
     ]
    }
   ],
   "source": [
    "for ygt,yout in zip(ys,ypred):\n",
    "    print(f\"Expected: {ygt} Predicted: {yout}\")"
   ]
  }
 ],
 "metadata": {
  "kernelspec": {
   "display_name": "Python (virtual micrograd)",
   "language": "python",
   "name": "myenv"
  },
  "language_info": {
   "codemirror_mode": {
    "name": "ipython",
    "version": 3
   },
   "file_extension": ".py",
   "mimetype": "text/x-python",
   "name": "python",
   "nbconvert_exporter": "python",
   "pygments_lexer": "ipython3",
   "version": "3.12.5"
  }
 },
 "nbformat": 4,
 "nbformat_minor": 2
}
